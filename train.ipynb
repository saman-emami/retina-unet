{
 "cells": [
  {
   "cell_type": "code",
   "execution_count": null,
   "id": "c7c6ce20",
   "metadata": {},
   "outputs": [],
   "source": [
    "import os\n",
    "from pathlib import Path\n",
    "import kagglehub\n",
    "import torch\n",
    "from torch.utils.data import DataLoader\n",
    "import numpy as np\n",
    "from sklearn.model_selection import train_test_split\n",
    "import matplotlib.pyplot as plt\n",
    "\n",
    "from src.dataset import RetinaDataset, norm\n",
    "from src.config import Config\n",
    "from src.model import UNet\n",
    "from src.trainer import UNetTrainer"
   ]
  },
  {
   "cell_type": "code",
   "execution_count": null,
   "id": "d3a8d876",
   "metadata": {},
   "outputs": [],
   "source": [
    "# Set random seed for reproducibility\n",
    "torch.manual_seed(Config.random_state)\n",
    "torch.cuda.manual_seed(Config.random_state)\n",
    "np.random.seed(Config.random_state)\n",
    "torch.backends.cudnn.deterministic = True"
   ]
  },
  {
   "cell_type": "code",
   "execution_count": null,
   "id": "a626973c",
   "metadata": {},
   "outputs": [],
   "source": [
    "# Set device\n",
    "device = Config.device\n",
    "print(f\"Using device: {device}\")\n",
    "\n",
    "if device.type == \"cuda\":\n",
    "    print(\n",
    "        f\"GPU Memory: {torch.cuda.get_device_properties(0).total_memory / 1e9:.2f} GB\"\n",
    "    )"
   ]
  },
  {
   "cell_type": "code",
   "execution_count": null,
   "id": "cf1b2d1a",
   "metadata": {},
   "outputs": [],
   "source": [
    "# Download the dataset using kagglehub\n",
    "dataset_path = kagglehub.dataset_download(\"abdallahwagih/retina-blood-vessel\")\n",
    "DATA_DIR = Path(dataset_path)\n",
    "print(\"Dataset contents:\", os.listdir(DATA_DIR))"
   ]
  },
  {
   "cell_type": "code",
   "execution_count": null,
   "id": "5a355b47",
   "metadata": {},
   "outputs": [],
   "source": [
    "# Load Paths\n",
    "train_img_dir = os.path.join(DATA_DIR, \"Data/train/image\")\n",
    "train_mask_dir = os.path.join(DATA_DIR, \"Data/train/mask\")\n",
    "\n",
    "test_img_dir = os.path.join(DATA_DIR, \"Data/test/image\")\n",
    "test_mask_dir = os.path.join(DATA_DIR, \"Data/test/mask\")\n",
    "\n",
    "train_images = sorted(\n",
    "    [\n",
    "        os.path.join(train_img_dir, file)\n",
    "        for file in os.listdir(train_img_dir)\n",
    "        if file.endswith(\".png\") or file.endswith(\".jpg\")\n",
    "    ]\n",
    ")\n",
    "\n",
    "train_masks = sorted(\n",
    "    [\n",
    "        os.path.join(train_mask_dir, f)\n",
    "        for f in os.listdir(train_mask_dir)\n",
    "        if f.endswith(\".png\") or f.endswith(\".jpg\")\n",
    "    ]\n",
    ")\n",
    "\n",
    "test_images = sorted(\n",
    "    [\n",
    "        os.path.join(test_img_dir, f)\n",
    "        for f in os.listdir(test_img_dir)\n",
    "        if f.endswith(\".png\") or f.endswith(\".jpg\")\n",
    "    ]\n",
    ")\n",
    "\n",
    "test_masks = sorted(\n",
    "    [\n",
    "        os.path.join(test_mask_dir, f)\n",
    "        for f in os.listdir(test_mask_dir)\n",
    "        if f.endswith(\".png\") or f.endswith(\".jpg\")\n",
    "    ]\n",
    ")"
   ]
  },
  {
   "cell_type": "code",
   "execution_count": null,
   "id": "2729bd1e",
   "metadata": {},
   "outputs": [],
   "source": [
    "train_images, val_images, train_masks, val_masks = train_test_split(\n",
    "    train_images, train_masks, test_size=0.2, random_state=Config.random_state\n",
    ")"
   ]
  },
  {
   "cell_type": "code",
   "execution_count": null,
   "id": "a4cc7406",
   "metadata": {},
   "outputs": [],
   "source": [
    "train_ds = RetinaDataset(train_images, train_masks)\n",
    "val_ds = RetinaDataset(val_images, val_masks)\n",
    "test_ds = RetinaDataset(test_images, test_masks)\n",
    "\n",
    "train_loader = DataLoader(train_ds, batch_size=4, shuffle=True, num_workers=2)\n",
    "val_loader = DataLoader(val_ds, batch_size=4, shuffle=False, num_workers=2)\n",
    "test_loader = DataLoader(test_ds, batch_size=4, shuffle=False, num_workers=2)"
   ]
  },
  {
   "cell_type": "code",
   "execution_count": null,
   "id": "da243e50",
   "metadata": {},
   "outputs": [],
   "source": [
    "# Create model\n",
    "print(\"Creating model...\")\n",
    "model = UNet()\n",
    "\n",
    "print(f\"Model parameters: {sum(p.numel() for p in model.parameters()):,}\")\n",
    "\n",
    "# Create trainer\n",
    "trainer = UNetTrainer(\n",
    "    model=model,\n",
    "    train_loader=train_loader,\n",
    "    val_loader=val_loader,\n",
    "    device=device,\n",
    ")\n",
    "\n",
    "# Train model\n",
    "print(\"Starting training...\")\n",
    "training_history = trainer.train()"
   ]
  },
  {
   "cell_type": "code",
   "execution_count": null,
   "id": "2fccd14d",
   "metadata": {},
   "outputs": [],
   "source": [
    "# validate test data\n",
    "test_loss, test_dice = trainer.validate(test_loader)\n",
    "print(f\"Test Loss: {test_loss:.4f}, Test Dice: {test_dice:.4f}\")"
   ]
  },
  {
   "cell_type": "code",
   "execution_count": null,
   "id": "769f21ee",
   "metadata": {},
   "outputs": [],
   "source": [
    "# Plotting\n",
    "train_losses, val_losses, val_dices = training_history.values()\n",
    "\n",
    "epochs = range(1, len(train_losses) + 1)\n",
    "\n",
    "plt.figure(figsize=(8, 5))\n",
    "plt.plot(epochs, train_losses, label=\"Training Loss\")\n",
    "plt.plot(epochs, val_losses, label=\"Validation Loss\")\n",
    "plt.title(\"Training and Validation Loss Curves\")\n",
    "plt.xlabel(\"Epochs\")\n",
    "plt.ylabel(\"Loss\")\n",
    "plt.legend()\n",
    "plt.grid(True)\n",
    "plt.show()\n",
    "\n",
    "plt.figure(figsize=(8, 5))\n",
    "plt.plot(\n",
    "    range(1, len(val_dices) + 1),\n",
    "    val_dices,\n",
    "    marker=\"o\",\n",
    "    color=\"tab:green\",\n",
    "    label=\"Val Dice\",\n",
    ")\n",
    "plt.xlabel(\"Epoch\")\n",
    "plt.ylabel(\"Dice coefficient\")\n",
    "plt.title(\"Validation Dice over epochs\")\n",
    "plt.grid(True, alpha=0.3)\n",
    "plt.ylim(0, 1.0)\n",
    "plt.xticks(range(1, len(val_dices) + 1))\n",
    "plt.legend()\n",
    "plt.show()"
   ]
  },
  {
   "cell_type": "code",
   "execution_count": null,
   "id": "3a334c7c",
   "metadata": {},
   "outputs": [],
   "source": [
    "num_examples = 5\n",
    "\n",
    "with torch.no_grad():\n",
    "    for i, (images, masks) in enumerate(test_loader):\n",
    "        if i >= num_examples:\n",
    "            break\n",
    "\n",
    "        images, masks = images.to(device), masks.to(device)\n",
    "        outputs = model(images)\n",
    "        prediction = torch.sigmoid(outputs) > 0.5  # Binarize predictions\n",
    "\n",
    "        # Plot for the first image in the batch\n",
    "        image = images[0].cpu().permute(1, 2, 0).numpy()\n",
    "        image = image * np.array(norm[\"std\"]) + np.array(norm[\"mean\"])  # Denormalize\n",
    "        image = np.clip(image, 0.0, 1.0)\n",
    "\n",
    "        mask = masks[0].cpu().squeeze().numpy()\n",
    "        prediction = prediction[0].cpu().squeeze().float().numpy()\n",
    "\n",
    "        fig, axs = plt.subplots(1, 3, figsize=(15, 5))\n",
    "        axs[0].imshow(image)\n",
    "        axs[0].set_title(\"Original Image\")\n",
    "\n",
    "        axs[1].imshow(mask, cmap=\"gray\")\n",
    "        axs[1].set_title(\"Ground Truth Mask\")\n",
    "\n",
    "        axs[2].imshow(prediction, cmap=\"gray\")\n",
    "        axs[2].set_title(\"Predicted Mask\")\n",
    "\n",
    "        plt.show()"
   ]
  }
 ],
 "metadata": {
  "kernelspec": {
   "display_name": ".venv (3.12.3)",
   "language": "python",
   "name": "python3"
  },
  "language_info": {
   "codemirror_mode": {
    "name": "ipython",
    "version": 3
   },
   "file_extension": ".py",
   "mimetype": "text/x-python",
   "name": "python",
   "nbconvert_exporter": "python",
   "pygments_lexer": "ipython3",
   "version": "3.12.3"
  }
 },
 "nbformat": 4,
 "nbformat_minor": 5
}
